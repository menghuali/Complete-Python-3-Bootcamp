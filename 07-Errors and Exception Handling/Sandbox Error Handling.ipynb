{
 "cells": [
  {
   "cell_type": "code",
   "execution_count": 4,
   "id": "19d1a551",
   "metadata": {},
   "outputs": [
    {
     "name": "stdout",
     "output_type": "stream",
     "text": [
      "Catched the error!\n"
     ]
    }
   ],
   "source": [
    "try:\n",
    "    result = 10 + '10'\n",
    "except:\n",
    "    print(\"Catched the error!\")\n",
    "else:\n",
    "    print(f\"Successful! Result = {result}\")"
   ]
  },
  {
   "cell_type": "code",
   "execution_count": 8,
   "id": "01f563d5",
   "metadata": {},
   "outputs": [
    {
     "name": "stdout",
     "output_type": "stream",
     "text": [
      "Catched NotImplementedError\n",
      "Finally, it's always executed\n"
     ]
    }
   ],
   "source": [
    "try:\n",
    "    result = 10 + 10\n",
    "    raise NotImplementedError()\n",
    "except TypeError:\n",
    "    print(\"Catched TypeError\")\n",
    "except NotImplementedError:\n",
    "    print(\"Catched NotImplementedError\")\n",
    "except:\n",
    "    print(\"Catched all other errors\")\n",
    "finally:\n",
    "    print(\"Finally, it's always executed\")"
   ]
  },
  {
   "cell_type": "code",
   "execution_count": null,
   "id": "73e6d66b",
   "metadata": {},
   "outputs": [],
   "source": []
  }
 ],
 "metadata": {
  "kernelspec": {
   "display_name": "Python 3 (ipykernel)",
   "language": "python",
   "name": "python3"
  },
  "language_info": {
   "codemirror_mode": {
    "name": "ipython",
    "version": 3
   },
   "file_extension": ".py",
   "mimetype": "text/x-python",
   "name": "python",
   "nbconvert_exporter": "python",
   "pygments_lexer": "ipython3",
   "version": "3.9.13"
  }
 },
 "nbformat": 4,
 "nbformat_minor": 5
}
